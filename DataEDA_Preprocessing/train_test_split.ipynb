{
 "cells": [
  {
   "cell_type": "code",
   "execution_count": 47,
   "metadata": {},
   "outputs": [],
   "source": [
    "import os\n",
    "import numpy as np\n",
    "import pandas as pd\n",
    "import math"
   ]
  },
  {
   "cell_type": "markdown",
   "metadata": {},
   "source": [
    "OBTAIN TRAINING AND TESTING SET IMAGE NAMES"
   ]
  },
  {
   "cell_type": "code",
   "execution_count": 78,
   "metadata": {},
   "outputs": [
    {
     "name": "stdout",
     "output_type": "stream",
     "text": [
      "['00007592_000.png' '00007268_001.png' '00007735_050.png' ...\n",
      " '00007590_006.png' '00007621_003.png' '00007576_023.png']\n",
      "['00006713_011.png' '00007127_000.png' '00008701_025.png' ...\n",
      " '00009015_000.png' '00008766_000.png' '00008142_001.png']\n"
     ]
    }
   ],
   "source": [
    "# get filenames first, then enumerate each filename, then do random assignment to train and test folders\n",
    "\n",
    "metadata = pd.read_csv(\"Data_Entry_2017.csv\")\n",
    "\n",
    "indices = np.array([])\n",
    "filenames = np.array([])\n",
    "sample_ids = np.array([])\n",
    "i = 0\n",
    "for filename in os.listdir(\"images\"):\n",
    "    if os.path.isfile(f\"images/{filename}\"):\n",
    "        filenames = np.append(filenames, filename)\n",
    "        indices = np.append(indices, i)\n",
    "        i += 1\n",
    "permutation = np.random.permutation(indices)\n",
    "permutation = [int(x) for x in permutation]\n",
    "\n",
    "train_set_size = math.floor(0.7 * len(filenames))\n",
    "\n",
    "train_set = filenames[permutation[:train_set_size]]\n",
    "test_set = filenames[permutation[train_set_size:]]\n",
    "print(train_set)\n",
    "print(test_set)"
   ]
  },
  {
   "cell_type": "markdown",
   "metadata": {},
   "source": [
    "ORGANIZE TRAINING SET INTO FOLDERS BASED ON CLASSIFICATION"
   ]
  },
  {
   "cell_type": "code",
   "execution_count": 86,
   "metadata": {},
   "outputs": [
    {
     "ename": "FileNotFoundError",
     "evalue": "[Errno 2] No such file or directory: 'images/00007592_000.png' -> 'images/train/No Finding/00007592_000.png'",
     "output_type": "error",
     "traceback": [
      "\u001b[0;31m---------------------------------------------------------------------------\u001b[0m",
      "\u001b[0;31mFileNotFoundError\u001b[0m                         Traceback (most recent call last)",
      "Cell \u001b[0;32mIn[86], line 12\u001b[0m\n\u001b[1;32m     10\u001b[0m     \u001b[38;5;28;01mif\u001b[39;00m \u001b[38;5;129;01mnot\u001b[39;00m os\u001b[38;5;241m.\u001b[39mpath\u001b[38;5;241m.\u001b[39mexists(\u001b[38;5;124mf\u001b[39m\u001b[38;5;124m\"\u001b[39m\u001b[38;5;124mimages/train/\u001b[39m\u001b[38;5;132;01m{\u001b[39;00mclassification\u001b[38;5;132;01m}\u001b[39;00m\u001b[38;5;124m\"\u001b[39m):\n\u001b[1;32m     11\u001b[0m         os\u001b[38;5;241m.\u001b[39mmakedirs(\u001b[38;5;124mf\u001b[39m\u001b[38;5;124m\"\u001b[39m\u001b[38;5;124mimages/train/\u001b[39m\u001b[38;5;132;01m{\u001b[39;00mclassification\u001b[38;5;132;01m}\u001b[39;00m\u001b[38;5;124m\"\u001b[39m)\n\u001b[0;32m---> 12\u001b[0m     \u001b[43mos\u001b[49m\u001b[38;5;241;43m.\u001b[39;49m\u001b[43mrename\u001b[49m\u001b[43m(\u001b[49m\u001b[38;5;124;43mf\u001b[39;49m\u001b[38;5;124;43m\"\u001b[39;49m\u001b[38;5;124;43mimages/\u001b[39;49m\u001b[38;5;132;43;01m{\u001b[39;49;00m\u001b[43mfilename\u001b[49m\u001b[38;5;132;43;01m}\u001b[39;49;00m\u001b[38;5;124;43m\"\u001b[39;49m\u001b[43m,\u001b[49m\u001b[43m \u001b[49m\u001b[38;5;124;43mf\u001b[39;49m\u001b[38;5;124;43m\"\u001b[39;49m\u001b[38;5;124;43mimages/train/\u001b[39;49m\u001b[38;5;132;43;01m{\u001b[39;49;00m\u001b[43mclassification\u001b[49m\u001b[38;5;132;43;01m}\u001b[39;49;00m\u001b[38;5;124;43m/\u001b[39;49m\u001b[38;5;132;43;01m{\u001b[39;49;00m\u001b[43mfilename\u001b[49m\u001b[38;5;132;43;01m}\u001b[39;49;00m\u001b[38;5;124;43m\"\u001b[39;49m\u001b[43m)\u001b[49m\n\u001b[1;32m     15\u001b[0m \u001b[38;5;28;01mif\u001b[39;00m \u001b[38;5;129;01mnot\u001b[39;00m os\u001b[38;5;241m.\u001b[39mpath\u001b[38;5;241m.\u001b[39mexists(\u001b[38;5;124m\"\u001b[39m\u001b[38;5;124mimages/test\u001b[39m\u001b[38;5;124m\"\u001b[39m):\n\u001b[1;32m     16\u001b[0m     os\u001b[38;5;241m.\u001b[39mmakedirs(\u001b[38;5;124m\"\u001b[39m\u001b[38;5;124mimages/test\u001b[39m\u001b[38;5;124m\"\u001b[39m)\n",
      "\u001b[0;31mFileNotFoundError\u001b[0m: [Errno 2] No such file or directory: 'images/00007592_000.png' -> 'images/train/No Finding/00007592_000.png'"
     ]
    }
   ],
   "source": [
    "if not os.path.exists(\"images/train\"):\n",
    "    os.makedirs(\"images/train\")\n",
    "for filename in train_set:\n",
    "    classification = metadata[metadata[\"Image Index\"] == filename][\"Finding Labels\"].values[0]\n",
    "    if classification.find(\"|\") != -1:\n",
    "        if not os.path.exists(\"images/uncertain_train\"):\n",
    "            os.makedirs(\"images/uncertain_train\")\n",
    "        os.rename(f\"images/{filename}\", f\"images/uncertain_train/{filename}\")\n",
    "        continue\n",
    "    if not os.path.exists(f\"images/train/{classification}\"):\n",
    "        os.makedirs(f\"images/train/{classification}\")\n",
    "    os.rename(f\"images/{filename}\", f\"images/train/{classification}/{filename}\")"
   ]
  },
  {
   "cell_type": "markdown",
   "metadata": {},
   "source": [
    "ORGANIZE TEST DATASET INTO FOLDERS BASED ON CLASSIFICATION"
   ]
  },
  {
   "cell_type": "code",
   "execution_count": 87,
   "metadata": {},
   "outputs": [],
   "source": [
    "if not os.path.exists(\"images/test\"):\n",
    "    os.makedirs(\"images/test\")\n",
    "for filename in test_set:\n",
    "    classification = metadata[metadata[\"Image Index\"] == filename][\"Finding Labels\"].values[0]\n",
    "    if classification.find(\"|\") != -1:\n",
    "        if not os.path.exists(\"images/uncertain_test\"):\n",
    "            os.makedirs(\"images/uncertain_test\")\n",
    "        os.rename(f\"images/{filename}\", f\"images/uncertain_test/{filename}\")\n",
    "        continue\n",
    "    if not os.path.exists(f\"images/test/{classification}\"):\n",
    "        os.makedirs(f\"images/test/{classification}\")\n",
    "    os.rename(f\"images/{filename}\", f\"images/test/{classification}/{filename}\")"
   ]
  },
  {
   "cell_type": "code",
   "execution_count": null,
   "metadata": {},
   "outputs": [],
   "source": []
  }
 ],
 "metadata": {
  "kernelspec": {
   "display_name": "csb",
   "language": "python",
   "name": "python3"
  },
  "language_info": {
   "codemirror_mode": {
    "name": "ipython",
    "version": 3
   },
   "file_extension": ".py",
   "mimetype": "text/x-python",
   "name": "python",
   "nbconvert_exporter": "python",
   "pygments_lexer": "ipython3",
   "version": "3.10.13"
  }
 },
 "nbformat": 4,
 "nbformat_minor": 2
}
