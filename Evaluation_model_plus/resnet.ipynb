{
 "cells": [
  {
   "cell_type": "code",
   "execution_count": 1,
   "metadata": {},
   "outputs": [
    {
     "name": "stderr",
     "output_type": "stream",
     "text": [
      "2024-04-21 14:48:53.803208: I tensorflow/core/platform/cpu_feature_guard.cc:193] This TensorFlow binary is optimized with oneAPI Deep Neural Network Library (oneDNN) to use the following CPU instructions in performance-critical operations:  SSE4.1 SSE4.2\n",
      "To enable them in other operations, rebuild TensorFlow with the appropriate compiler flags.\n"
     ]
    }
   ],
   "source": [
    "\n",
    "\n",
    "from PIL import Image\n",
    "import numpy as np\n",
    "import os\n",
    "from keras.applications import ResNet50\n",
    "from tensorflow.keras.preprocessing.image import ImageDataGenerator\n",
    "from keras import Model\n",
    "from keras.layers import GlobalAveragePooling2D, Dense\n",
    "from tensorflow.keras.applications.resnet50 import preprocess_input\n",
    "from tensorflow.keras.models import Model\n",
    "from tensorflow.keras.optimizers import Adam\n",
    "\n",
    "import tensorflow as tf\n",
    "tf.config.threading.set_intra_op_parallelism_threads(12)\n"
   ]
  },
  {
   "cell_type": "markdown",
   "metadata": {},
   "source": [
    "LOAD IN ALL TRAINING IMAGES TO NP ARRAY"
   ]
  },
  {
   "cell_type": "code",
   "execution_count": 87,
   "metadata": {},
   "outputs": [
    {
     "name": "stdout",
     "output_type": "stream",
     "text": [
      "Hernia\n",
      "Mass\n",
      "uncertain\n",
      ".DS_Store\n",
      "Cardiomegaly\n",
      "Atelectasis\n",
      "Effusion\n",
      "Pneumothorax\n",
      "No Finding\n",
      "Nodule\n",
      "Edema\n",
      "Pleural_Thickening\n",
      "Pneumonia\n",
      "Emphysema\n",
      "Infiltration\n",
      "Consolidation\n",
      "Fibrosis\n"
     ]
    }
   ],
   "source": [
    "# load images into np array\n",
    "n_images = 0\n",
    "for dir_name in os.listdir(\"images/train\"):\n",
    "    if dir_name != \"uncertain_train\" and os.path.isdir(f\"images/train/{dir_name}\"):\n",
    "        for filename in os.listdir(f\"images/train/{dir_name}\"):\n",
    "            n_images += 1\n",
    "images = np.empty((n_images, 224, 224, 3))\n",
    "for dir_name in os.listdir(\"images/train\"):\n",
    "    index = 0\n",
    "    print(dir_name)\n",
    "    if dir_name != \"uncertain_train\" and os.path.isdir(f\"images/train/{dir_name}\"):\n",
    "        for filename in os.listdir(f\"images/train/{dir_name}\"):\n",
    "            img = kimage.load_img(f\"images/train/{dir_name}/{filename}\", target_size=(224, 224))\n",
    "            img_array = kimage.img_to_array(img)\n",
    "            img_array = preprocess_input(img_array)\n",
    "            index += 1\n",
    "            images[index] = img_array"
   ]
  },
  {
   "cell_type": "markdown",
   "metadata": {},
   "source": [
    "INITIALIZE RESNET50 MODEL WITH ADAM OPTIMIZER, CATEGORICAL CROSS-ENTROPY LOSS"
   ]
  },
  {
   "cell_type": "code",
   "execution_count": 5,
   "metadata": {},
   "outputs": [
    {
     "name": "stderr",
     "output_type": "stream",
     "text": [
      "2024-04-21 01:57:44.035056: I tensorflow/core/platform/cpu_feature_guard.cc:193] This TensorFlow binary is optimized with oneAPI Deep Neural Network Library (oneDNN) to use the following CPU instructions in performance-critical operations:  SSE4.1 SSE4.2\n",
      "To enable them in other operations, rebuild TensorFlow with the appropriate compiler flags.\n"
     ]
    },
    {
     "name": "stdout",
     "output_type": "stream",
     "text": [
      "Found 5859 images belonging to 15 classes.\n",
      "Epoch 1/5\n",
      "184/184 [==============================] - 958s 5s/step - loss: 1.6477 - accuracy: 0.6747\n",
      "Epoch 2/5\n",
      "184/184 [==============================] - 948s 5s/step - loss: 1.3618 - accuracy: 0.6919\n",
      "Epoch 3/5\n",
      "184/184 [==============================] - 953s 5s/step - loss: 1.3444 - accuracy: 0.6894\n",
      "Epoch 4/5\n",
      "184/184 [==============================] - 976s 5s/step - loss: 1.3417 - accuracy: 0.6914\n",
      "Epoch 5/5\n",
      "184/184 [==============================] - 975s 5s/step - loss: 1.3200 - accuracy: 0.6921\n"
     ]
    },
    {
     "data": {
      "text/plain": [
       "<keras.callbacks.History at 0x1918ba140>"
      ]
     },
     "execution_count": 5,
     "metadata": {},
     "output_type": "execute_result"
    }
   ],
   "source": [
    "# assemble ResNet50 model, using pretrained weights on ImageNet\n",
    "base_model = ResNet50(include_top=False, \n",
    "                            classes=15,\n",
    "                            input_shape=(224,224,3),\n",
    "                            weights=None)\n",
    "x = base_model.output\n",
    "x = GlobalAveragePooling2D()(x)\n",
    "x = Dense(1024, activation='relu')(x)\n",
    "predictions = Dense(15, activation='softmax')(x)\n",
    "model = Model(inputs=base_model.input, outputs=predictions)\n",
    "model.compile(optimizer=Adam(learning_rate=0.001), loss='categorical_crossentropy', metrics=['accuracy'])\n",
    "\n",
    "# Data preparation\n",
    "train_datagen = ImageDataGenerator(rescale=1./255)\n",
    "train_generator = train_datagen.flow_from_directory(\n",
    "        'images/train',\n",
    "        target_size=(224, 224),\n",
    "        batch_size=32,\n",
    "        class_mode='categorical')\n",
    "model.fit(\n",
    "        train_generator,\n",
    "        steps_per_epoch=len(train_generator),\n",
    "        epochs=5,\n",
    "        verbose=1)"
   ]
  },
  {
   "cell_type": "code",
   "execution_count": 2,
   "metadata": {},
   "outputs": [
    {
     "name": "stderr",
     "output_type": "stream",
     "text": [
      "2024-04-21 14:49:13.237228: I tensorflow/core/platform/cpu_feature_guard.cc:193] This TensorFlow binary is optimized with oneAPI Deep Neural Network Library (oneDNN) to use the following CPU instructions in performance-critical operations:  SSE4.1 SSE4.2\n",
      "To enable them in other operations, rebuild TensorFlow with the appropriate compiler flags.\n"
     ]
    },
    {
     "name": "stdout",
     "output_type": "stream",
     "text": [
      "Found 5859 images belonging to 15 classes.\n",
      "Epoch 1/5\n",
      "46/46 [==============================] - 1496s 32s/step - loss: 1.8988 - accuracy: 0.6706\n",
      "Epoch 2/5\n",
      "46/46 [==============================] - 1678s 37s/step - loss: 1.4587 - accuracy: 0.6894\n",
      "Epoch 3/5\n",
      "46/46 [==============================] - 1535s 33s/step - loss: 1.3889 - accuracy: 0.6902\n",
      "Epoch 4/5\n",
      "26/46 [===============>..............] - ETA: 11:01 - loss: 1.3562 - accuracy: 0.6869"
     ]
    }
   ],
   "source": [
    "# model checkpoints\n",
    "checkpoint_path = \"images/train\"\n",
    "checkpoint_dir = os.path.dirname(checkpoint_path)\n",
    "\n",
    "# Create a callback that saves the model's weights\n",
    "cp_callback = tf.keras.callbacks.ModelCheckpoint(filepath=checkpoint_path,\n",
    "                                                 save_weights_only=True,\n",
    "                                                 verbose=1)\n",
    "\n",
    "\n",
    "# assemble ResNet50 model, using pretrained weights on ImageNet\n",
    "base_model = ResNet50(include_top=False, \n",
    "                            classes=15,\n",
    "                            input_shape=(1024,1024,3),\n",
    "                            weights=None)\n",
    "x = base_model.output\n",
    "x = GlobalAveragePooling2D()(x)\n",
    "x = Dense(1024, activation='relu')(x)\n",
    "predictions = Dense(15, activation='softmax')(x)\n",
    "model = Model(inputs=base_model.input, outputs=predictions)\n",
    "model.compile(optimizer=Adam(learning_rate=0.001), loss='categorical_crossentropy', metrics=['accuracy'])\n",
    "\n",
    "# Data preparation\n",
    "train_datagen = ImageDataGenerator(rescale=1./255)\n",
    "train_generator = train_datagen.flow_from_directory(\n",
    "        'images/train',\n",
    "        # target_size=(1024, 1024),\n",
    "        batch_size=128,\n",
    "        class_mode='categorical')\n",
    "model.fit(\n",
    "        train_generator,\n",
    "        steps_per_epoch=len(train_generator),\n",
    "        epochs=5,\n",
    "        verbose=1)"
   ]
  },
  {
   "cell_type": "code",
   "execution_count": null,
   "metadata": {},
   "outputs": [],
   "source": []
  }
 ],
 "metadata": {
  "kernelspec": {
   "display_name": "csb",
   "language": "python",
   "name": "python3"
  },
  "language_info": {
   "codemirror_mode": {
    "name": "ipython",
    "version": 3
   },
   "file_extension": ".py",
   "mimetype": "text/x-python",
   "name": "python",
   "nbconvert_exporter": "python",
   "pygments_lexer": "ipython3",
   "version": "3.10.13"
  }
 },
 "nbformat": 4,
 "nbformat_minor": 2
}
